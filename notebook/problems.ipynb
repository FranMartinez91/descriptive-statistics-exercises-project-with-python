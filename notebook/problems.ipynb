{
    "cells": [
        {
            "cell_type": "markdown",
            "id": "ac622319",
            "metadata": {},
            "source": [
                "# Descriptive statistics problems"
            ]
        },
        {
            "cell_type": "markdown",
            "id": "5e0ab0d5",
            "metadata": {},
            "source": [
                "### Exercise 1\n",
                "\n",
                "We will use NumPy to obtain information to describe statistically.\n",
                "\n",
                "- Generate an array of 100 elements following a normal distribution.\n",
                "- Generate an array of 100 elements following a chi-square distribution with 3 degrees of freedom.\n",
                "- Calculate the main metrics and statistical measures that best describe the two vectors."
            ]
        },
        {
            "cell_type": "code",
            "execution_count": 15,
            "id": "34720ab6",
            "metadata": {},
            "outputs": [
                {
                    "name": "stdout",
                    "output_type": "stream",
                    "text": [
                        "Media Normal: -0.03203809434285977\n",
                        "Media Chi-cuadrada: 103.37462484744395\n",
                        "Moda Normal: -1.4062422783762953\n",
                        "Moda Chi-cuadrada: 92.0899741362699\n",
                        "Mediana Normal: -0.08752171057637731\n",
                        "Mediana Chi-cuadrada: 93.22055915580923\n",
                        "Rango Normal: 4.633331450241436\n",
                        "Rango Chi-cuadrada: 32.72336711398286\n",
                        "Varianza Normal: 0.9634448691191495\n",
                        "Varianza Chi-cuadrada: 230.0223175810993\n",
                        "Desviación Estándar Normal: 0.9815522752860132\n",
                        "Desviación Estándar Chi-cuadrada: 15.16648665911454\n",
                        "Asimetría Normal: 0.1820974516412029\n",
                        "Asimetría Chi-cuadrada: 0.7041609009858009\n",
                        "Exceso de Curtosis Normal: -0.40980620776698284\n",
                        "Exceso de Curtosis Chi-cuadrada: -1.4999999999999984\n"
                    ]
                }
            ],
            "source": [
                "# TODO\n",
                "\n",
                "import numpy as np\n",
                "import statistics as stats\n",
                "import scipy.stats as stats2\n",
                "\n",
                "array_normal = np.random.randn(100)\n",
                "array_chi2 = np.random.chisquare(100,3)\n",
                "\n",
                "media_normal = np.mean(array_normal)\n",
                "media_chi2 = np.mean(array_chi2)\n",
                "\n",
                "moda_normal = stats.mode(array_normal)\n",
                "moda_chi2 = stats.mode(array_chi2)\n",
                "\n",
                "mediana_normal = np.median(array_normal)\n",
                "mediana_chi2 = np.median(array_chi2)\n",
                "\n",
                "rango_normal = np.ptp(array_normal)\n",
                "rango_chi2 = np.ptp(array_chi2)\n",
                "\n",
                "varianza_normal = np.var(array_normal)\n",
                "varianza_chi2 = np.var(array_chi2)\n",
                "\n",
                "dvest_normal = np.std(array_normal)\n",
                "dvest_chi2 = np.std(array_chi2)\n",
                "\n",
                "asim_normal = stats2.skew(array_normal)\n",
                "asim_chi2 = stats2.skew(array_chi2)\n",
                "\n",
                "kurt_normal = stats2.kurtosis(array_normal)\n",
                "kurt_chi2 = stats2.kurtosis(array_chi2)\n",
                "\n",
                "print(f\"Media Normal: {media_normal}\")\n",
                "print(f\"Media Chi-cuadrada: {media_chi2}\")\n",
                "print(f\"Moda Normal: {moda_normal}\")\n",
                "print(f\"Moda Chi-cuadrada: {moda_chi2}\")\n",
                "print(f\"Mediana Normal: {mediana_normal}\")\n",
                "print(f\"Mediana Chi-cuadrada: {mediana_chi2}\")\n",
                "print(f\"Rango Normal: {rango_normal}\")\n",
                "print(f\"Rango Chi-cuadrada: {rango_chi2}\")\n",
                "print(f\"Varianza Normal: {varianza_normal}\")\n",
                "print(f\"Varianza Chi-cuadrada: {varianza_chi2}\")\n",
                "print(f\"Desviación Estándar Normal: {dvest_normal}\")\n",
                "print(f\"Desviación Estándar Chi-cuadrada: {dvest_chi2}\")\n",
                "print(f\"Asimetría Normal: {asim_normal}\")\n",
                "print(f\"Asimetría Chi-cuadrada: {asim_chi2}\")\n",
                "print(f\"Exceso de Curtosis Normal: {kurt_normal}\")\n",
                "print(f\"Exceso de Curtosis Chi-cuadrada: {kurt_chi2}\")\n",
                "\n",
                "\n"
            ]
        },
        {
            "cell_type": "markdown",
            "id": "46c70c3d",
            "metadata": {},
            "source": [
                "### Exercise 2\n",
                "\n",
                "Write a Python program to calculate the standard deviation of the following data:\n",
                "\n",
                "```py\n",
                "data = [4, 2, 5, 8, 6]\n",
                "```"
            ]
        },
        {
            "cell_type": "code",
            "execution_count": 8,
            "id": "d590308e",
            "metadata": {},
            "outputs": [
                {
                    "name": "stdout",
                    "output_type": "stream",
                    "text": [
                        "2.0\n",
                        "2.0\n"
                    ]
                }
            ],
            "source": [
                "# TODO\n",
                "import math\n",
                "\n",
                "data = [4, 2, 5, 8, 6]\n",
                "\n",
                "def promedio(datos):\n",
                "    suma = 0\n",
                "    for n in datos:\n",
                "        suma += n\n",
                "    return suma/len(datos)\n",
                "\n",
                "def distancia_media(dato,media):\n",
                "    resta = dato - media\n",
                "    distancia = resta**2\n",
                "    return distancia\n",
                "    \n",
                "def dev_est(datos):\n",
                "    media = promedio(datos)\n",
                "    suma_distancias = 0\n",
                "    for n in datos:\n",
                "        suma_distancias += distancia_media(n,media)\n",
                "    promedio_distancias = suma_distancias/len(datos)\n",
                "    return math.sqrt(promedio_distancias)\n",
                "\n",
                "print(dev_est(data))\n",
                "print(np.std(data))\n",
                "    "
            ]
        }
    ],
    "metadata": {
        "interpreter": {
            "hash": "9248718ffe6ce6938b217e69dbcc175ea21f4c6b28a317e96c05334edae734bb"
        },
        "kernelspec": {
            "display_name": "Python 3.9.12 ('ML-BOOTCAMP')",
            "language": "python",
            "name": "python3"
        },
        "language_info": {
            "codemirror_mode": {
                "name": "ipython",
                "version": 3
            },
            "file_extension": ".py",
            "mimetype": "text/x-python",
            "name": "python",
            "nbconvert_exporter": "python",
            "pygments_lexer": "ipython3",
            "version": "3.11.4"
        }
    },
    "nbformat": 4,
    "nbformat_minor": 5
}
